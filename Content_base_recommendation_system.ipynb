{
  "nbformat": 4,
  "nbformat_minor": 0,
  "metadata": {
    "colab": {
      "name": "Content_base_recommendation_system.ipynb",
      "provenance": [],
      "collapsed_sections": []
    },
    "kernelspec": {
      "name": "python3",
      "display_name": "Python 3"
    }
  },
  "cells": [
    {
      "cell_type": "code",
      "metadata": {
        "id": "f102VxhJWbJ1",
        "colab_type": "code",
        "outputId": "fde1c17d-310b-408d-c633-cf2183fa5d92",
        "colab": {
          "base_uri": "https://localhost:8080/",
          "height": 50
        }
      },
      "source": [
        "#Cosine similarity\n",
        "from sklearn.feature_extraction.text import CountVectorizer \n",
        "texts = ['london paris london', 'paris london paris']\n",
        "cv = CountVectorizer()\n",
        "cv_fit = cv.fit_transform(texts)\n",
        "word_list = cv.get_feature_names()\n",
        "print(word_list)\n",
        "word_count = cv_fit.toarray().sum(axis=0)\n",
        "print(word_count)"
      ],
      "execution_count": 0,
      "outputs": [
        {
          "output_type": "stream",
          "text": [
            "['london', 'paris']\n",
            "[3 3]\n"
          ],
          "name": "stdout"
        }
      ]
    },
    {
      "cell_type": "code",
      "metadata": {
        "id": "3X8nL3gvg-t9",
        "colab_type": "code",
        "colab": {
          "base_uri": "https://localhost:8080/",
          "height": 50
        },
        "outputId": "8bad7047-24e7-4a9f-f881-0ae88c89b3de"
      },
      "source": [
        "from sklearn.metrics.pairwise import cosine_similarity\n",
        "similarity_scores = cosine_similarity(cv_fit)\n",
        "print(similarity_scores)"
      ],
      "execution_count": 7,
      "outputs": [
        {
          "output_type": "stream",
          "text": [
            "[[1.  0.8]\n",
            " [0.8 1. ]]\n"
          ],
          "name": "stdout"
        }
      ]
    },
    {
      "cell_type": "code",
      "metadata": {
        "id": "K2D3W8pUtdcA",
        "colab_type": "code",
        "colab": {
          "base_uri": "https://localhost:8080/",
          "height": 970
        },
        "outputId": "02e702f6-6812-44d4-f20e-d145edf50afe"
      },
      "source": [
        "import pandas as pd\n",
        "import numpy as np\n",
        "from sklearn.feature_extraction.text import CountVectorizer\n",
        "from sklearn.metrics.pairwise import cosine_similarity\n",
        "###### helper functions. Use them when needed #######\n",
        "def get_title_from_index(index):\n",
        "\treturn df[df.index == index][\"title\"].values[0]\n",
        "\n",
        "def get_index_from_title(title):\n",
        "\treturn df[df.title == title][\"index\"].values[0]\n",
        "\n",
        "\n",
        "#Read CSV File\n",
        "df = pd.read_csv(\"movie_dataset.csv\")\n",
        "#print(df.columns)\n",
        "\n",
        "#Select Features\n",
        "features = ['keywords', 'genres', 'cast', 'director']\n",
        "\n",
        "#Create a column in DF which combines all selected features\n",
        "for feature in features:\n",
        "  df[feature] = df[feature].fillna('')\n",
        "\n",
        "def combine_features(row):\n",
        "  try:\n",
        "    return row['keywords']+\" \"+row['genres']+\" \"+row['cast']+\" \"+row['director']\n",
        "  except:\n",
        "    print (\"Error:\", row)\n",
        "\n",
        "df[\"combined_features\"] = df.apply(combine_features, axis = 1)\n",
        "print (df[\"combined_features\"].head())\n",
        "#Create count matrix from this new combined column\n",
        "cv = CountVectorizer()\n",
        "count_matrix = cv.fit_transform(df[\"combined_features\"])\n",
        "#Compute the Cosine Similarity based on the count_matrix\n",
        "cosine_sim = cosine_similarity(count_matrix)\n",
        "movie_user_likes = \"Avatar\"\n",
        "\n",
        "#Get index of this movie from its title\n",
        "movie_index = get_index_from_title(movie_user_likes)\n",
        "similar_movies = list(enumerate(cosine_sim[movie_index]))\n",
        "#Get a list of similar movies in descending order of similarity score\n",
        "sorted_similar_movies = sorted(similar_movies, key=lambda x:x[1], reverse = True)\n",
        "#Print titles of first 50 movies\n",
        "i = 0\n",
        "for movie in sorted_similar_movies:\n",
        "  print(get_title_from_index(movie[0]))\n",
        "  i += 1\n",
        "  if i > 50:\n",
        "    break\n",
        "\n"
      ],
      "execution_count": 19,
      "outputs": [
        {
          "output_type": "stream",
          "text": [
            "0    culture clash future space war space colony so...\n",
            "1    ocean drug abuse exotic island east india trad...\n",
            "2    spy based on novel secret agent sequel mi6 Act...\n",
            "3    dc comics crime fighter terrorist secret ident...\n",
            "4    based on novel mars medallion space travel pri...\n",
            "Name: combined_features, dtype: object\n",
            "Avatar\n",
            "Guardians of the Galaxy\n",
            "Aliens\n",
            "Star Wars: Clone Wars: Volume 1\n",
            "Star Trek Into Darkness\n",
            "Star Trek Beyond\n",
            "Alien\n",
            "Lockout\n",
            "Jason X\n",
            "The Helix... Loaded\n",
            "Moonraker\n",
            "Planet of the Apes\n",
            "Galaxy Quest\n",
            "Gravity\n",
            "Alien³\n",
            "Jupiter Ascending\n",
            "The Wolverine\n",
            "Silent Running\n",
            "Zathura: A Space Adventure\n",
            "Trekkies\n",
            "Cargo\n",
            "Wing Commander\n",
            "Star Trek\n",
            "Lost in Space\n",
            "Babylon A.D.\n",
            "The Fifth Element\n",
            "Oblivion\n",
            "Titan A.E.\n",
            "AVP: Alien vs. Predator\n",
            "The Empire Strikes Back\n",
            "Dragonball Evolution\n",
            "Superman Returns\n",
            "Divergent\n",
            "John Carter\n",
            "The Black Hole\n",
            "The Ice Pirates\n",
            "Memoirs of an Invisible Man\n",
            "Starship Troopers\n",
            "The Astronaut's Wife\n",
            "Machete Kills\n",
            "Soldier\n",
            "The Abyss\n",
            "Damnation Alley\n",
            "Men in Black\n",
            "Space Cowboys\n",
            "Space Dogs\n",
            "The Time Machine\n",
            "Sheena\n",
            "Captain America: Civil War\n",
            "Star Trek: Insurrection\n",
            "Oz: The Great and Powerful\n"
          ],
          "name": "stdout"
        }
      ]
    }
  ]
}